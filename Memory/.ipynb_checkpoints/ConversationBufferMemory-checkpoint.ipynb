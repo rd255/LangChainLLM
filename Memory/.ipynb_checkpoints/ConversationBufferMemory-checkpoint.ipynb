{
 "cells": [
  {
   "cell_type": "code",
   "execution_count": 15,
   "id": "5c6537d3-ac5c-41ee-a835-67db99bf7fe6",
   "metadata": {},
   "outputs": [
    {
     "data": {
      "text/plain": [
       "\"Hello Andrew! It's nice to meet you. How can I assist you today?\""
      ]
     },
     "execution_count": 15,
     "metadata": {},
     "output_type": "execute_result"
    }
   ],
   "source": [
    "## import block\n",
    "from langchain.chat_models import ChatOpenAI\n",
    "from langchain.chains import ConversationChain\n",
    "from langchain.memory import ConversationBufferMemory\n",
    "\n",
    "## Connect to llm\n",
    "llm = ChatOpenAI(temperature=0.0)\n",
    "\n",
    "## Create memory\n",
    "memory = ConversationBufferMemory()\n",
    "\n",
    "## Create conversation\n",
    "conversation = ConversationChain(\n",
    "    llm=llm, \n",
    "    memory = memory,\n",
    "    verbose=False\n",
    ")\n",
    "\n",
    "## Initiate conversation and let it know your name\n",
    "conversation.predict(input=\"Hi, my name is Andrew\")"
   ]
  },
  {
   "cell_type": "code",
   "execution_count": 16,
   "id": "68ef4394-7365-43a5-a0fc-96f5e1525cda",
   "metadata": {},
   "outputs": [
    {
     "data": {
      "text/plain": [
       "'The top three editors for writing Python code are PyCharm, Visual Studio Code, and Sublime Text. PyCharm is a powerful and feature-rich IDE specifically designed for Python development. It offers code completion, debugging tools, and integration with version control systems. Visual Studio Code is a lightweight and versatile code editor that supports Python through extensions. It provides a customizable and user-friendly interface with features like IntelliSense and debugging capabilities. Sublime Text is a popular text editor known for its speed and simplicity. It has a wide range of plugins and packages available for Python development, making it highly customizable to suit individual preferences.'"
      ]
     },
     "execution_count": 16,
     "metadata": {},
     "output_type": "execute_result"
    }
   ],
   "source": [
    "## continue conversation\n",
    "conversation.predict(input=\"Please share the top 3 editors for writing Python code\")"
   ]
  },
  {
   "cell_type": "code",
   "execution_count": 17,
   "id": "54a2a374-001b-42c1-b2d6-a4c93c18668f",
   "metadata": {},
   "outputs": [
    {
     "name": "stdout",
     "output_type": "stream",
     "text": [
      "Human: Hi, my name is Andrew\n",
      "AI: Hello Andrew! It's nice to meet you. How can I assist you today?\n",
      "Human: Please share the top 3 editors for writing Python code\n",
      "AI: The top three editors for writing Python code are PyCharm, Visual Studio Code, and Sublime Text. PyCharm is a powerful and feature-rich IDE specifically designed for Python development. It offers code completion, debugging tools, and integration with version control systems. Visual Studio Code is a lightweight and versatile code editor that supports Python through extensions. It provides a customizable and user-friendly interface with features like IntelliSense and debugging capabilities. Sublime Text is a popular text editor known for its speed and simplicity. It has a wide range of plugins and packages available for Python development, making it highly customizable to suit individual preferences.\n",
      "Human: Hi\n",
      "AI: What's up\n"
     ]
    }
   ],
   "source": [
    "## Add conversation explicitly\n",
    "memory.save_context({\"input\": \"Hi\"}, \n",
    "                    {\"output\": \"What's up\"})\n",
    "print(memory.buffer)"
   ]
  }
 ],
 "metadata": {
  "kernelspec": {
   "display_name": "Python 3 (ipykernel)",
   "language": "python",
   "name": "python3"
  },
  "language_info": {
   "codemirror_mode": {
    "name": "ipython",
    "version": 3
   },
   "file_extension": ".py",
   "mimetype": "text/x-python",
   "name": "python",
   "nbconvert_exporter": "python",
   "pygments_lexer": "ipython3",
   "version": "3.11.4"
  }
 },
 "nbformat": 4,
 "nbformat_minor": 5
}
